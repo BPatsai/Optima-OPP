{
 "cells": [
  {
   "cell_type": "markdown",
   "id": "ce49803c",
   "metadata": {},
   "source": [
    "# Лекція 5.\n"
   ]
  },
  {
   "cell_type": "markdown",
   "id": "f0b0f1e2",
   "metadata": {},
   "source": [
    "## 1. Робота з рядками"
   ]
  },
  {
   "cell_type": "markdown",
   "id": "87f77001",
   "metadata": {},
   "source": [
    "### 1.1. str"
   ]
  },
  {
   "cell_type": "code",
   "execution_count": null,
   "id": "67c0a688",
   "metadata": {},
   "outputs": [],
   "source": [
    "str(), str([1,2]), str((3,4)), str({\"x\": 1})\n",
    "print(\"рядок1\\nрядок2\")"
   ]
  },
  {
   "cell_type": "markdown",
   "id": "3fda6e39",
   "metadata": {},
   "source": [
    "### 1.2. repr"
   ]
  },
  {
   "cell_type": "code",
   "execution_count": null,
   "id": "b51231b3",
   "metadata": {},
   "outputs": [],
   "source": [
    "repr(\"Рядок\"), repr([1,2,3]),repr({\"x\": 5})"
   ]
  },
  {
   "cell_type": "code",
   "execution_count": null,
   "id": "488d00d9",
   "metadata": {},
   "outputs": [],
   "source": [
    "repr(\"рядок1\\nрядок2\")"
   ]
  },
  {
   "cell_type": "code",
   "execution_count": null,
   "id": "e95c376f",
   "metadata": {},
   "outputs": [],
   "source": [
    "print(repr(\"рядок1\\nрядок2\"))"
   ]
  },
  {
   "cell_type": "code",
   "execution_count": 1,
   "id": "51860e91",
   "metadata": {},
   "outputs": [
    {
     "name": "stdout",
     "output_type": "stream",
     "text": [
      "рядок1\n",
      "рядок2\n",
      "'рядок1\\nрядок2'\n",
      "'\\u0440\\u044f\\u0434\\u043e\\u043a1\\n\\u0440\\u044f\\u0434\\u043e\\u043a2'\n"
     ]
    },
    {
     "data": {
      "text/plain": [
       "(None, None, None)"
      ]
     },
     "execution_count": 1,
     "metadata": {},
     "output_type": "execute_result"
    }
   ],
   "source": [
    "print(str(\"рядок1\\nрядок2\")), print(repr(\"рядок1\\nрядок2\")), print(ascii(\"рядок1\\nрядок2\")) \n"
   ]
  },
  {
   "cell_type": "markdown",
   "id": "2ab448bb",
   "metadata": {},
   "source": [
    "### 1.3. ascii"
   ]
  },
  {
   "cell_type": "code",
   "execution_count": null,
   "id": "5d2ed882",
   "metadata": {},
   "outputs": [],
   "source": [
    "ascii([1, 2, 3]), ascii({\"х\":5}) "
   ]
  },
  {
   "cell_type": "code",
   "execution_count": null,
   "id": "76947a07",
   "metadata": {},
   "outputs": [],
   "source": [
    "ascii([1, 2, 3]), ascii({\"х\":5})\n",
    "ascii(\"рядок\")"
   ]
  },
  {
   "cell_type": "markdown",
   "id": "ddc05b99",
   "metadata": {},
   "source": [
    "### 1.4. strip, lstrip, rstrip"
   ]
  },
  {
   "cell_type": "code",
   "execution_count": null,
   "id": "6b35d961",
   "metadata": {},
   "outputs": [],
   "source": [
    "s1, s2 = \"   str\\n\\r\\v\\t\", \"strstrstrokstrstrstr\""
   ]
  },
  {
   "cell_type": "code",
   "execution_count": null,
   "id": "dc6d08f4",
   "metadata": {},
   "outputs": [],
   "source": [
    " \"'%s' - '%s'\" % (s1.strip(), s2.strip(\"tsr\"))"
   ]
  },
  {
   "cell_type": "code",
   "execution_count": null,
   "id": "58b0f463",
   "metadata": {},
   "outputs": [],
   "source": [
    "s1, s2 = \"   str\\n\\r\\v\\t\", \"strstrstrokstrsmrstr\""
   ]
  },
  {
   "cell_type": "code",
   "execution_count": null,
   "id": "6a6c82bf",
   "metadata": {},
   "outputs": [],
   "source": [
    "\"'%s' - '%s'\" % (s1.strip(), s2.strip(\"tsr\"))"
   ]
  },
  {
   "cell_type": "markdown",
   "id": "2e1bb087",
   "metadata": {},
   "source": [
    "### 1.5. split"
   ]
  },
  {
   "cell_type": "code",
   "execution_count": 3,
   "id": "603ce890",
   "metadata": {},
   "outputs": [],
   "source": [
    "s = \"word1 word2 word3\""
   ]
  },
  {
   "cell_type": "code",
   "execution_count": 4,
   "id": "bb39374b",
   "metadata": {},
   "outputs": [
    {
     "data": {
      "text/plain": [
       "['word1', 'word2', 'word3']"
      ]
     },
     "execution_count": 4,
     "metadata": {},
     "output_type": "execute_result"
    }
   ],
   "source": [
    "s.split()"
   ]
  },
  {
   "cell_type": "code",
   "execution_count": 5,
   "id": "ab4934e3",
   "metadata": {},
   "outputs": [
    {
     "data": {
      "text/plain": [
       "['word1', 'word2 word3']"
      ]
     },
     "execution_count": 5,
     "metadata": {},
     "output_type": "execute_result"
    }
   ],
   "source": [
    "s.split(None, 1)"
   ]
  },
  {
   "cell_type": "code",
   "execution_count": 6,
   "id": "c485109e",
   "metadata": {},
   "outputs": [
    {
     "data": {
      "text/plain": [
       "['word1', 'word2', 'word3']"
      ]
     },
     "execution_count": 6,
     "metadata": {},
     "output_type": "execute_result"
    }
   ],
   "source": [
    "s = \"word1\\nword2\\nword3\"\n",
    "s.split(\"\\n\")"
   ]
  },
  {
   "cell_type": "markdown",
   "id": "c47f3a93",
   "metadata": {},
   "source": [
    "### 1.6. "
   ]
  },
  {
   "cell_type": "code",
   "execution_count": null,
   "id": "6e73cb36",
   "metadata": {},
   "outputs": [],
   "source": [
    "s = \"word1      word2          word3  \""
   ]
  },
  {
   "cell_type": "code",
   "execution_count": null,
   "id": "f4b6f096",
   "metadata": {},
   "outputs": [],
   "source": [
    "s.split()"
   ]
  },
  {
   "cell_type": "code",
   "execution_count": null,
   "id": "034c8585",
   "metadata": {},
   "outputs": [],
   "source": [
    "s = \",,word1,,word2,,word3,,\""
   ]
  },
  {
   "cell_type": "code",
   "execution_count": null,
   "id": "f51b3ef7",
   "metadata": {},
   "outputs": [],
   "source": [
    "s.split(\",\")"
   ]
  },
  {
   "cell_type": "code",
   "execution_count": null,
   "id": "3ccb1849",
   "metadata": {},
   "outputs": [],
   "source": [
    "\"1,,2,,3\".split(\",\")"
   ]
  },
  {
   "cell_type": "code",
   "execution_count": null,
   "id": "334d3c1b",
   "metadata": {},
   "outputs": [],
   "source": [
    "\"word1 word2 word3\".split(\"\\n\")"
   ]
  },
  {
   "cell_type": "markdown",
   "id": "aa32dec0",
   "metadata": {},
   "source": [
    "### 1.7. splitlines"
   ]
  },
  {
   "cell_type": "code",
   "execution_count": null,
   "id": "f1ad67ff",
   "metadata": {},
   "outputs": [],
   "source": [
    "\"word1\\nword2\\nword3\".splitlines()"
   ]
  },
  {
   "cell_type": "code",
   "execution_count": null,
   "id": "7b62054b",
   "metadata": {},
   "outputs": [],
   "source": [
    "\"word1\\nword2\\nword3\".splitlines(True)"
   ]
  },
  {
   "cell_type": "code",
   "execution_count": null,
   "id": "e59ad530",
   "metadata": {},
   "outputs": [],
   "source": [
    "\"word1\\nword2\\nword3\".splitlines(False)"
   ]
  },
  {
   "cell_type": "code",
   "execution_count": null,
   "id": "bec108db",
   "metadata": {},
   "outputs": [],
   "source": [
    "\"word1 word2 word3\".splitlines() #Роздільника немає"
   ]
  },
  {
   "cell_type": "markdown",
   "id": "34fd73ae",
   "metadata": {},
   "source": [
    "### 1.8. partition, rpartition"
   ]
  },
  {
   "cell_type": "code",
   "execution_count": 7,
   "id": "ebdb23c4",
   "metadata": {},
   "outputs": [
    {
     "data": {
      "text/plain": [
       "('word1', ' ', 'word2 word3')"
      ]
     },
     "execution_count": 7,
     "metadata": {},
     "output_type": "execute_result"
    }
   ],
   "source": [
    "\"word1 word2 word3\".partition(\" \")"
   ]
  },
  {
   "cell_type": "code",
   "execution_count": 8,
   "id": "1b715f6b",
   "metadata": {},
   "outputs": [
    {
     "data": {
      "text/plain": [
       "('word1 word2 word3', '', '')"
      ]
     },
     "execution_count": 8,
     "metadata": {},
     "output_type": "execute_result"
    }
   ],
   "source": [
    "\"word1 word2 word3\".partition(\"\\n \")"
   ]
  },
  {
   "cell_type": "markdown",
   "id": "3a3d73ef",
   "metadata": {},
   "source": [
    "### 1.9. join"
   ]
  },
  {
   "cell_type": "code",
   "execution_count": null,
   "id": "3589ab4c",
   "metadata": {},
   "outputs": [],
   "source": [
    "\"=>\" .join([\"word1\", \"word2\", \"word3\"] )"
   ]
  },
  {
   "cell_type": "code",
   "execution_count": null,
   "id": "2eabd5ee",
   "metadata": {},
   "outputs": [],
   "source": [
    "\" \".join((\"word1\", \"word2\", \"word3\"))"
   ]
  },
  {
   "cell_type": "markdown",
   "id": "84c5cb18",
   "metadata": {},
   "source": [
    "### 1.10. find, index"
   ]
  },
  {
   "cell_type": "code",
   "execution_count": 9,
   "id": "65532655",
   "metadata": {},
   "outputs": [
    {
     "data": {
      "text/plain": [
       "7"
      ]
     },
     "execution_count": 9,
     "metadata": {},
     "output_type": "execute_result"
    }
   ],
   "source": [
    "s = \"приклад приклад Приклад\"\n",
    "s.find(\" при\")"
   ]
  },
  {
   "cell_type": "code",
   "execution_count": 10,
   "id": "1454077c",
   "metadata": {},
   "outputs": [
    {
     "data": {
      "text/plain": [
       "15"
      ]
     },
     "execution_count": 10,
     "metadata": {},
     "output_type": "execute_result"
    }
   ],
   "source": [
    "s.find(\" При\")"
   ]
  },
  {
   "cell_type": "code",
   "execution_count": 11,
   "id": "935ee53b",
   "metadata": {},
   "outputs": [
    {
     "data": {
      "text/plain": [
       "-1"
      ]
     },
     "execution_count": 11,
     "metadata": {},
     "output_type": "execute_result"
    }
   ],
   "source": [
    "s.find(\"тест\")"
   ]
  },
  {
   "cell_type": "code",
   "execution_count": 12,
   "id": "6da839e0",
   "metadata": {},
   "outputs": [
    {
     "data": {
      "text/plain": [
       "-1"
      ]
     },
     "execution_count": 12,
     "metadata": {},
     "output_type": "execute_result"
    }
   ],
   "source": [
    "s.find(\" при\",9)"
   ]
  },
  {
   "cell_type": "code",
   "execution_count": 13,
   "id": "54c1414b",
   "metadata": {},
   "outputs": [
    {
     "data": {
      "text/plain": [
       "7"
      ]
     },
     "execution_count": 13,
     "metadata": {},
     "output_type": "execute_result"
    }
   ],
   "source": [
    "s = \"приклад приклад Приклад\"\n",
    "s.index(\" при\")"
   ]
  },
  {
   "cell_type": "code",
   "execution_count": 14,
   "id": "a3b36242",
   "metadata": {},
   "outputs": [
    {
     "ename": "ValueError",
     "evalue": "substring not found",
     "output_type": "error",
     "traceback": [
      "\u001b[1;31m---------------------------------------------------------------------------\u001b[0m",
      "\u001b[1;31mValueError\u001b[0m                                Traceback (most recent call last)",
      "Cell \u001b[1;32mIn [14], line 1\u001b[0m\n\u001b[1;32m----> 1\u001b[0m \u001b[43ms\u001b[49m\u001b[38;5;241;43m.\u001b[39;49m\u001b[43mindex\u001b[49m\u001b[43m(\u001b[49m\u001b[38;5;124;43m\"\u001b[39;49m\u001b[38;5;124;43mтест\u001b[39;49m\u001b[38;5;124;43m\"\u001b[39;49m\u001b[43m)\u001b[49m\n",
      "\u001b[1;31mValueError\u001b[0m: substring not found"
     ]
    }
   ],
   "source": [
    "s.index(\"тест\")"
   ]
  },
  {
   "cell_type": "markdown",
   "id": "c0560829",
   "metadata": {},
   "source": [
    "## 2. Списки, кортежі, множини і діапазони в мові Python"
   ]
  },
  {
   "cell_type": "markdown",
   "id": "612fd693",
   "metadata": {},
   "source": [
    "### Приклад 2.1. Зміна елемента списку за індексом"
   ]
  },
  {
   "cell_type": "code",
   "execution_count": null,
   "id": "d5d466a2",
   "metadata": {},
   "outputs": [],
   "source": [
    "arr = [1, 2, 3] \n",
    "arr[0]"
   ]
  },
  {
   "cell_type": "code",
   "execution_count": null,
   "id": "f53a0d34",
   "metadata": {},
   "outputs": [],
   "source": [
    "arr[0] = 50\n",
    "arr"
   ]
  },
  {
   "cell_type": "markdown",
   "id": "f7a3b095",
   "metadata": {},
   "source": [
    "### Приклад 2.2. Елемент кортежу неможливо змінити"
   ]
  },
  {
   "cell_type": "code",
   "execution_count": null,
   "id": "9f6e627c",
   "metadata": {},
   "outputs": [],
   "source": [
    "t = (1, 2, 3)\n",
    "t[0]"
   ]
  },
  {
   "cell_type": "code",
   "execution_count": null,
   "id": "f19db314",
   "metadata": {},
   "outputs": [],
   "source": [
    "t[0] = 50 # ПОМИЛКА\n",
    "t"
   ]
  },
  {
   "cell_type": "markdown",
   "id": "aca035ff",
   "metadata": {},
   "source": [
    "### Приклад 2.3.  Створення множини функцією set() зі списку"
   ]
  },
  {
   "cell_type": "code",
   "execution_count": null,
   "id": "050c7cb5",
   "metadata": {},
   "outputs": [],
   "source": [
    "set([0, 1, 1, 2, 3, 3, 4]) # Дубльовані елементи автоматично видаляються"
   ]
  },
  {
   "cell_type": "code",
   "execution_count": null,
   "id": "fdaa8383",
   "metadata": {},
   "outputs": [],
   "source": [
    "set([\"a\", \"b\", \"c\", \"c\", \"d\"]) # Дубльовані елементи автоматично видаляються"
   ]
  },
  {
   "cell_type": "code",
   "execution_count": null,
   "id": "4100d5ab",
   "metadata": {},
   "outputs": [],
   "source": [
    "set([\"string\", 1, \"string\", 3, 3]) # Дубльовані елементи автоматично видаляються"
   ]
  },
  {
   "cell_type": "markdown",
   "id": "03b0ac18",
   "metadata": {},
   "source": [
    "### Приклад 2.4. Створення списку додаванням елементів методом append()"
   ]
  },
  {
   "cell_type": "code",
   "execution_count": null,
   "id": "3d18cc90",
   "metadata": {},
   "outputs": [],
   "source": [
    "arr = [1, \"str\", 3, \"4\"] # Створення списку перерахуванням елементів у квадратних дужках\n",
    "arr"
   ]
  },
  {
   "cell_type": "code",
   "execution_count": null,
   "id": "2aa7631e",
   "metadata": {},
   "outputs": [],
   "source": [
    "arr = []\n",
    "arr.append(1)"
   ]
  },
  {
   "cell_type": "code",
   "execution_count": null,
   "id": "91709ccf",
   "metadata": {},
   "outputs": [],
   "source": [
    "arr.append(\"str\")\n",
    "arr"
   ]
  },
  {
   "cell_type": "markdown",
   "id": "e86672c9",
   "metadata": {},
   "source": [
    "### Приклад 2.5. Створення списку оператором повторення"
   ]
  },
  {
   "cell_type": "code",
   "execution_count": 16,
   "id": "ffd7e1ae",
   "metadata": {},
   "outputs": [
    {
     "data": {
      "text/plain": [
       "[[], []]"
      ]
     },
     "execution_count": 16,
     "metadata": {},
     "output_type": "execute_result"
    }
   ],
   "source": [
    "arr = [ [] ] * 2 \n",
    "arr"
   ]
  },
  {
   "cell_type": "code",
   "execution_count": 17,
   "id": "cd149100",
   "metadata": {},
   "outputs": [
    {
     "data": {
      "text/plain": [
       "[[5], [5]]"
      ]
     },
     "execution_count": 17,
     "metadata": {},
     "output_type": "execute_result"
    }
   ],
   "source": [
    "arr[0].append(5) \n",
    "arr"
   ]
  },
  {
   "cell_type": "markdown",
   "id": "08a938e3",
   "metadata": {},
   "source": [
    "### Приклад 2.6. Створення вкладених списків"
   ]
  },
  {
   "cell_type": "code",
   "execution_count": 18,
   "id": "d55f4a9a",
   "metadata": {},
   "outputs": [
    {
     "data": {
      "text/plain": [
       "[[], []]"
      ]
     },
     "execution_count": 18,
     "metadata": {},
     "output_type": "execute_result"
    }
   ],
   "source": [
    "arr = []\n",
    "for i in range(2): \n",
    "    arr.append([])\n",
    "arr"
   ]
  },
  {
   "cell_type": "code",
   "execution_count": 19,
   "id": "37654808",
   "metadata": {},
   "outputs": [
    {
     "data": {
      "text/plain": [
       "[[5], []]"
      ]
     },
     "execution_count": 19,
     "metadata": {},
     "output_type": "execute_result"
    }
   ],
   "source": [
    "arr[0].append(5) \n",
    "arr"
   ]
  },
  {
   "cell_type": "markdown",
   "id": "0d1d192e",
   "metadata": {},
   "source": [
    "### Приклад 2.7. Створення списку за допомогою генератора списку"
   ]
  },
  {
   "cell_type": "code",
   "execution_count": null,
   "id": "393542c6",
   "metadata": {},
   "outputs": [],
   "source": [
    "arr = [ [] for i in range(2) ]\n",
    "arr"
   ]
  },
  {
   "cell_type": "code",
   "execution_count": null,
   "id": "e51d5ff8",
   "metadata": {},
   "outputs": [],
   "source": [
    "arr[1].append(2)\n",
    "arr"
   ]
  },
  {
   "cell_type": "code",
   "execution_count": null,
   "id": "5587ab15",
   "metadata": {},
   "outputs": [],
   "source": [
    "arr[0].append(3)\n",
    "arr"
   ]
  },
  {
   "cell_type": "code",
   "execution_count": null,
   "id": "dba17974",
   "metadata": {},
   "outputs": [],
   "source": [
    "arr[0].append('str')\n",
    "arr"
   ]
  },
  {
   "cell_type": "markdown",
   "id": "ba3efc73",
   "metadata": {},
   "source": [
    "### Приклад 2.8. Створення копій списків"
   ]
  },
  {
   "cell_type": "code",
   "execution_count": null,
   "id": "9e9bb453",
   "metadata": {},
   "outputs": [],
   "source": [
    "x = [1, 2, 3, 4, 5] \n",
    "y = [\"a\", \"b\", \"c\", \"d\"]\n",
    "z = list(x)\n",
    "f = list(y)\n",
    "z,f"
   ]
  },
  {
   "cell_type": "code",
   "execution_count": null,
   "id": "c4c05885",
   "metadata": {},
   "outputs": [],
   "source": [
    "z is x"
   ]
  },
  {
   "cell_type": "code",
   "execution_count": null,
   "id": "dbf88335",
   "metadata": {},
   "outputs": [],
   "source": [
    "f is y"
   ]
  },
  {
   "cell_type": "code",
   "execution_count": null,
   "id": "d16dd53f",
   "metadata": {},
   "outputs": [],
   "source": [
    "x = [1, 2, 3, 4, 5] \n",
    "y = [\"a\", \"b\", \"c\", \"d\"]\n",
    "z= x[:]\n",
    "f= y[:]\n",
    "z,f"
   ]
  },
  {
   "cell_type": "code",
   "execution_count": null,
   "id": "de16629c",
   "metadata": {},
   "outputs": [],
   "source": [
    "f is y"
   ]
  },
  {
   "cell_type": "code",
   "execution_count": null,
   "id": "c0d26e9f",
   "metadata": {},
   "outputs": [],
   "source": [
    "z is x"
   ]
  },
  {
   "cell_type": "code",
   "execution_count": null,
   "id": "0c43a318",
   "metadata": {},
   "outputs": [],
   "source": [
    "x = [\"2014\",\"2015\",\"2016\",\"2017\"]\n",
    "y= x.copy()\n",
    "y"
   ]
  },
  {
   "cell_type": "code",
   "execution_count": null,
   "id": "7fa59c83",
   "metadata": {},
   "outputs": [],
   "source": [
    "x is y"
   ]
  },
  {
   "cell_type": "code",
   "execution_count": null,
   "id": "ea552e40",
   "metadata": {},
   "outputs": [],
   "source": [
    "y[1] = \"2018\"\n",
    "x,y"
   ]
  },
  {
   "cell_type": "markdown",
   "id": "06b3e0c6",
   "metadata": {},
   "source": [
    "### Приклад 2.9. Умова позиційного присвоювання - однакова кількість елементів справа і зліва"
   ]
  },
  {
   "cell_type": "code",
   "execution_count": null,
   "id": "eeed2a0c",
   "metadata": {},
   "outputs": [],
   "source": [
    "x, y, z = [1, 2, 3] \n",
    "x, y, z"
   ]
  },
  {
   "cell_type": "code",
   "execution_count": null,
   "id": "e0b6c3bc",
   "metadata": {},
   "outputs": [],
   "source": [
    "x, y= [1, 2, 3]"
   ]
  },
  {
   "cell_type": "markdown",
   "id": "47936a0c",
   "metadata": {},
   "source": [
    "### Приклад 2.10. Використання зірочки в позиційному присвоюванні у списках"
   ]
  },
  {
   "cell_type": "code",
   "execution_count": null,
   "id": "6a69b6bb",
   "metadata": {},
   "outputs": [],
   "source": [
    "x, y, *z = [1, 2, 3]; x, y, z"
   ]
  },
  {
   "cell_type": "code",
   "execution_count": null,
   "id": "83d93f45",
   "metadata": {},
   "outputs": [],
   "source": [
    "x, y, *z = [1, 2, 3, 4, 5]; x, y, z"
   ]
  },
  {
   "cell_type": "code",
   "execution_count": null,
   "id": "ada29740",
   "metadata": {},
   "outputs": [],
   "source": [
    "x, y, *z = [1, 2]; x, y, z"
   ]
  },
  {
   "cell_type": "code",
   "execution_count": null,
   "id": "1e511230",
   "metadata": {},
   "outputs": [],
   "source": [
    "*x, y, z = [1, 2]; x, y, z"
   ]
  },
  {
   "cell_type": "code",
   "execution_count": null,
   "id": "c8c9fe87",
   "metadata": {},
   "outputs": [],
   "source": [
    "x, *y, z = [1, 2, 3, 4, 5]; x, y, z"
   ]
  },
  {
   "cell_type": "code",
   "execution_count": null,
   "id": "9b56d752",
   "metadata": {},
   "outputs": [],
   "source": [
    "*z, = [1, 2, 3, 4, 5]; z"
   ]
  },
  {
   "cell_type": "code",
   "execution_count": null,
   "id": "d0e0a810",
   "metadata": {},
   "outputs": [],
   "source": [
    "x, *y, *z = [1, 2, 3, 4, 5]; x, y, z"
   ]
  },
  {
   "cell_type": "markdown",
   "id": "ff6f229b",
   "metadata": {},
   "source": [
    "### Приклад 2.11. Операція зрізу у списках"
   ]
  },
  {
   "cell_type": "code",
   "execution_count": null,
   "id": "08692ec3",
   "metadata": {},
   "outputs": [],
   "source": [
    "arr = [1, 2, 3, 4, 5, 6]\n",
    "m = arr[1:6:2]\n",
    "m"
   ]
  },
  {
   "cell_type": "code",
   "execution_count": null,
   "id": "1b986608",
   "metadata": {},
   "outputs": [],
   "source": [
    "m is arr\n",
    "s = arr[:]; \n",
    "s"
   ]
  },
  {
   "cell_type": "code",
   "execution_count": null,
   "id": "ee0ff7b8",
   "metadata": {},
   "outputs": [],
   "source": [
    "s is arr"
   ]
  },
  {
   "cell_type": "markdown",
   "id": "38a6dce6",
   "metadata": {},
   "source": [
    "### Приклад 2.12. Окремі випадки доступу до елементів списку за зрізом"
   ]
  },
  {
   "cell_type": "code",
   "execution_count": null,
   "id": "fbd7c979",
   "metadata": {},
   "outputs": [],
   "source": [
    "arr = [1, 2, 3, 4, 5, 6]\n",
    "arr[::-1]"
   ]
  },
  {
   "cell_type": "code",
   "execution_count": null,
   "id": "0b64a454",
   "metadata": {},
   "outputs": [],
   "source": [
    "arr[1:]"
   ]
  },
  {
   "cell_type": "code",
   "execution_count": null,
   "id": "cbe74e41",
   "metadata": {},
   "outputs": [],
   "source": [
    "arr[:-1]"
   ]
  },
  {
   "cell_type": "code",
   "execution_count": null,
   "id": "159aeaf8",
   "metadata": {},
   "outputs": [],
   "source": [
    "arr[0:2]"
   ]
  },
  {
   "cell_type": "code",
   "execution_count": null,
   "id": "a4d7bd73",
   "metadata": {},
   "outputs": [],
   "source": [
    "arr[-1:]"
   ]
  },
  {
   "cell_type": "code",
   "execution_count": null,
   "id": "28a9dd7e",
   "metadata": {},
   "outputs": [],
   "source": [
    "arr[1:4]"
   ]
  },
  {
   "cell_type": "markdown",
   "id": "b3bf0e9b",
   "metadata": {},
   "source": [
    "### Приклад 2.13. Зміна й видалення фрагмента списку"
   ]
  },
  {
   "cell_type": "code",
   "execution_count": 20,
   "id": "9aa4447d",
   "metadata": {},
   "outputs": [
    {
     "data": {
      "text/plain": [
       "[1, 8, 7, 4, 5, 6]"
      ]
     },
     "execution_count": 20,
     "metadata": {},
     "output_type": "execute_result"
    }
   ],
   "source": [
    "arr = [1, 2, 3, 4, 5, 6]\n",
    "arr[1:3] = [8,7]\n",
    "arr"
   ]
  },
  {
   "cell_type": "code",
   "execution_count": 21,
   "id": "ce40f946",
   "metadata": {},
   "outputs": [
    {
     "data": {
      "text/plain": [
       "[1, 4, 5, 6]"
      ]
     },
     "execution_count": 21,
     "metadata": {},
     "output_type": "execute_result"
    }
   ],
   "source": [
    "arr[1:3]=[ ]\n",
    "arr"
   ]
  },
  {
   "cell_type": "code",
   "execution_count": 22,
   "id": "f4e34cae",
   "metadata": {},
   "outputs": [
    {
     "data": {
      "text/plain": [
       "4"
      ]
     },
     "execution_count": 22,
     "metadata": {},
     "output_type": "execute_result"
    }
   ],
   "source": [
    "arr[1]"
   ]
  },
  {
   "cell_type": "markdown",
   "id": "6713417c",
   "metadata": {},
   "source": [
    "### Приклад 2.14. Формування списку з застосуванням конкатенації"
   ]
  },
  {
   "cell_type": "code",
   "execution_count": null,
   "id": "95ae7d6c",
   "metadata": {},
   "outputs": [],
   "source": [
    "arr1 = [1, 2, 3, 4, 5, 6]\n",
    "arr2 = [7, 8, 9]\n",
    "sum = arr1 + arr2 \n",
    "sum"
   ]
  },
  {
   "cell_type": "markdown",
   "id": "8d1c2417",
   "metadata": {},
   "source": [
    "**Додавання елементів до списку з використанням конкатенації**"
   ]
  },
  {
   "cell_type": "code",
   "execution_count": null,
   "id": "b64605d9",
   "metadata": {},
   "outputs": [],
   "source": [
    "arr = [1, 2, 3, 4, 5, 6]\n",
    "arr += [7, 8, 9]\n",
    "arr"
   ]
  },
  {
   "cell_type": "markdown",
   "id": "39120cd6",
   "metadata": {},
   "source": [
    "### Приклад 2.15. Операції повторення (*) і перевірки на входження (in, not in) для списків"
   ]
  },
  {
   "cell_type": "code",
   "execution_count": null,
   "id": "77b71635",
   "metadata": {},
   "outputs": [],
   "source": [
    "[\"a\", \"b\", \"c\"]*2 \n",
    "[\"a\", \"b\", \"c\"]*3 \n",
    "\"a\" in [\"a\", \"b\", \"c\"], \"d\" in [\"a\", \"b\", \"c\"]"
   ]
  },
  {
   "cell_type": "markdown",
   "id": "25beefa7",
   "metadata": {},
   "source": [
    "### Приклад 2.16. Багаторівневі списки"
   ]
  },
  {
   "cell_type": "code",
   "execution_count": null,
   "id": "1df7d76a",
   "metadata": {},
   "outputs": [],
   "source": [
    "nested = [[1, 2, 3], [4, 5, 6], [7, 8, 9]]\n",
    "nested"
   ]
  },
  {
   "cell_type": "markdown",
   "id": "d5d50739",
   "metadata": {},
   "source": [
    "### Приклад 2.17. Багаторядкове представлення багатовимірних списків"
   ]
  },
  {
   "cell_type": "code",
   "execution_count": null,
   "id": "dd28482b",
   "metadata": {},
   "outputs": [],
   "source": [
    "nested = [\n",
    "             [1, 2, 3],\n",
    "             [4, 5, 6],\n",
    "             [7, 8, 9],\n",
    "           ]\n",
    "nested"
   ]
  },
  {
   "cell_type": "markdown",
   "id": "07c90c9e",
   "metadata": {},
   "source": [
    "### Приклад 2.17б. Доступ до елементів вкладеного списку"
   ]
  },
  {
   "cell_type": "code",
   "execution_count": null,
   "id": "5a52ad96",
   "metadata": {},
   "outputs": [],
   "source": [
    "nested[0]\n"
   ]
  },
  {
   "cell_type": "code",
   "execution_count": null,
   "id": "e30d167c",
   "metadata": {},
   "outputs": [],
   "source": [
    "nested[0][0]"
   ]
  },
  {
   "cell_type": "code",
   "execution_count": null,
   "id": "3b6a2d4f",
   "metadata": {},
   "outputs": [],
   "source": []
  },
  {
   "cell_type": "markdown",
   "id": "1f207f53",
   "metadata": {},
   "source": [
    "### Приклад 2.18. Для доступу до елементів вказується кілька індексів підряд"
   ]
  },
  {
   "cell_type": "code",
   "execution_count": null,
   "id": "21757452",
   "metadata": {},
   "outputs": [],
   "source": [
    "nested = [\n",
    "               [(\"a\", \"b\",\"A\"),1],\n",
    "               [(\"c\", \"d\",\"B\"),2],\n",
    "               [(\"e\", \"f\",\"C\"),3],\n",
    "             ]\n",
    "nested[0][0][0], nested[1][0][1], nested[2][0][2]"
   ]
  },
  {
   "cell_type": "code",
   "execution_count": null,
   "id": "77c8ad77",
   "metadata": {},
   "outputs": [],
   "source": [
    "nested"
   ]
  },
  {
   "cell_type": "code",
   "execution_count": null,
   "id": "c235e782",
   "metadata": {},
   "outputs": [],
   "source": [
    "nestdic = [1, \"а\", {\"b\":10,\"c\":[\"d\", 100]}]\n",
    "nestdic[0] "
   ]
  },
  {
   "cell_type": "code",
   "execution_count": null,
   "id": "1d73e51c",
   "metadata": {},
   "outputs": [],
   "source": [
    "nestdic[2][\"c\"] "
   ]
  },
  {
   "cell_type": "code",
   "execution_count": null,
   "id": "a065b36c",
   "metadata": {},
   "outputs": [],
   "source": [
    "nestdic[2][\"c\"][0]"
   ]
  },
  {
   "cell_type": "code",
   "execution_count": null,
   "id": "e68df085",
   "metadata": {},
   "outputs": [],
   "source": [
    "nestdic[1] "
   ]
  },
  {
   "cell_type": "code",
   "execution_count": null,
   "id": "f832b65b",
   "metadata": {},
   "outputs": [],
   "source": [
    "nestdic[2] "
   ]
  },
  {
   "cell_type": "markdown",
   "id": "e2006651",
   "metadata": {},
   "source": [
    "## 3. Операції зі списками"
   ]
  },
  {
   "cell_type": "markdown",
   "id": "9bab2c9e",
   "metadata": {},
   "source": [
    "### Приклад 3.1. Генератор списку"
   ]
  },
  {
   "cell_type": "code",
   "execution_count": 23,
   "id": "1dd0022c",
   "metadata": {},
   "outputs": [
    {
     "name": "stdout",
     "output_type": "stream",
     "text": [
      "[2, 4, 6, 8]\n"
     ]
    }
   ],
   "source": [
    "arr = [ 1, 2, 3, 4]\n",
    "arr = [ i * 2 for i in arr]\n",
    "print(arr) "
   ]
  },
  {
   "cell_type": "code",
   "execution_count": 24,
   "id": "d830be95",
   "metadata": {},
   "outputs": [
    {
     "name": "stdout",
     "output_type": "stream",
     "text": [
      "[20, 40]\n"
     ]
    }
   ],
   "source": [
    "arr = [1, 2, 3, 4] \n",
    "arr = [ i * 10 for i in arr if i % 2 == 0] # генератор циклу з умовою\n",
    "print(arr) "
   ]
  },
  {
   "cell_type": "markdown",
   "id": "3a6585d8",
   "metadata": {},
   "source": [
    "**Вкладений генератор циклу**"
   ]
  },
  {
   "cell_type": "code",
   "execution_count": null,
   "id": "148c4e27",
   "metadata": {},
   "outputs": [],
   "source": [
    "arr = [[1, 2,3,4], [3, 4], [5, 6]]\n",
    "arr1=[j * 10 for i in arr for j in i if j % 2 == 0]\n",
    "print(arr1) "
   ]
  },
  {
   "cell_type": "markdown",
   "id": "b5d501b1",
   "metadata": {},
   "source": [
    "### Приклад 3.2. Вираз-генератор, який працює як ітератор"
   ]
  },
  {
   "cell_type": "code",
   "execution_count": null,
   "id": "a7f3560c",
   "metadata": {},
   "outputs": [],
   "source": [
    "arr = [1, 4, 12, 45, 10]\n",
    "j=(i for i in arr if i % 2 == 0)\n",
    "next(j)"
   ]
  },
  {
   "cell_type": "code",
   "execution_count": null,
   "id": "594b721f",
   "metadata": {},
   "outputs": [],
   "source": [
    "next(j)"
   ]
  },
  {
   "cell_type": "code",
   "execution_count": null,
   "id": "70bbaeca",
   "metadata": {},
   "outputs": [],
   "source": [
    "next(j)"
   ]
  },
  {
   "cell_type": "markdown",
   "id": "d73b6ae0",
   "metadata": {},
   "source": [
    "### Приклад 3.3. Функція map()  як окремий ітератор"
   ]
  },
  {
   "cell_type": "code",
   "execution_count": null,
   "id": "92f25978",
   "metadata": {},
   "outputs": [],
   "source": [
    "def func(elem):\n",
    "   \"\"\" Збільшення значення кожного елемента списку \"\"\"\n",
    "   return elem + 10 \n",
    "arr = [1, 2, 3, 4, 5]\n",
    "j=map(func, arr)\n",
    "for i in arr: print(next(j), end=\" \")"
   ]
  },
  {
   "cell_type": "markdown",
   "id": "c5e665eb",
   "metadata": {},
   "source": [
    "**Використання list**"
   ]
  },
  {
   "cell_type": "code",
   "execution_count": null,
   "id": "9b01f770",
   "metadata": {},
   "outputs": [],
   "source": [
    "def func(elem):\n",
    "   \"\"\" Збільшення значення кожного елемента списку \"\"\"\n",
    "   return elem + 10 \n",
    "arr = [1, 2, 3, 4, 5]\n",
    "print(list(map(func, arr)), end=\" \")"
   ]
  },
  {
   "cell_type": "markdown",
   "id": "cb702569",
   "metadata": {},
   "source": [
    "### Приклад 3.4. Функція map() розпаковується функцією list()"
   ]
  },
  {
   "cell_type": "code",
   "execution_count": null,
   "id": "c5f7a411",
   "metadata": {},
   "outputs": [],
   "source": [
    "def func(elem):\n",
    "   \"\"\" Збільшення значення кожного елемента списку \"\"\"\n",
    "   return elem + 10 \n",
    "arr = [1, 2, 3, 4, 5]\n",
    "print(list(map(func, arr)), end=\" \")"
   ]
  },
  {
   "cell_type": "markdown",
   "id": "3f2056e2",
   "metadata": {},
   "source": [
    "### Приклад 3.5. Функція map() розпаковується функцією tuple()"
   ]
  },
  {
   "cell_type": "code",
   "execution_count": null,
   "id": "91172b14",
   "metadata": {},
   "outputs": [],
   "source": [
    "def func(elem):\n",
    "    return elem * 10 \n",
    "arr = [1, 2, 3, 4, 5]\n",
    "print(tuple(map(func, arr)), end=\" \")"
   ]
  },
  {
   "cell_type": "markdown",
   "id": "13470d9b",
   "metadata": {},
   "source": [
    "### Приклад 3.6. Функція map() використовується з функцією set()"
   ]
  },
  {
   "cell_type": "code",
   "execution_count": null,
   "id": "374dafb2",
   "metadata": {},
   "outputs": [],
   "source": [
    "def func(elem):\n",
    "    return elem - 10 \n",
    "arr = [1, 2,2, 2, 2, 2, 2, 2, 3, 4, 5]\n",
    "print(set(map(func, arr)), end=\" \")"
   ]
  },
  {
   "cell_type": "markdown",
   "id": "e03477e0",
   "metadata": {},
   "source": [
    "### Приклад 3.7. Функція map() з декількома послідовностями"
   ]
  },
  {
   "cell_type": "code",
   "execution_count": null,
   "id": "9a891125",
   "metadata": {},
   "outputs": [],
   "source": [
    "def func(e1, е2, е3):\n",
    "    return e1 + е2 + е3 \n",
    "arr1=[1, 2, 3, 4, 5]\n",
    "arr2=[10, 20, 30, 40, 50]\n",
    "arr3=[100, 200, 300, 400, 500]\n",
    "print(list(map(func, arr1, arr2, arr3)))"
   ]
  },
  {
   "cell_type": "markdown",
   "id": "8bb4c391",
   "metadata": {},
   "source": [
    "### Приклад 3.8. map() і кілька послідовностей різної довжини"
   ]
  },
  {
   "cell_type": "code",
   "execution_count": null,
   "id": "f674cac8",
   "metadata": {},
   "outputs": [],
   "source": [
    "def func(e1, е2, е3):\n",
    "    \"\"\" Додавання елементів трьох різних списків \"\"\"\n",
    "    return e1 + е2 + е3\n",
    "arr1 = [1, 2, 3, 4, 5]\n",
    "arr2 = [10, 20]\n",
    "arr3 = [100, 200, 300, 400, 500]\n",
    "print(list( map(func, arr1, arr2, arr3)))"
   ]
  },
  {
   "cell_type": "markdown",
   "id": "30ec746a",
   "metadata": {},
   "source": [
    "### Приклад 3.9. Функція zip() "
   ]
  },
  {
   "cell_type": "code",
   "execution_count": null,
   "id": "779f34b9",
   "metadata": {},
   "outputs": [],
   "source": [
    "J=zip([1, 2, 3], [4, 5, 6], [7, 8, 9])\n",
    "next(J)"
   ]
  },
  {
   "cell_type": "code",
   "execution_count": null,
   "id": "78f3553b",
   "metadata": {},
   "outputs": [],
   "source": [
    "next(J)"
   ]
  },
  {
   "cell_type": "code",
   "execution_count": null,
   "id": "58ea701e",
   "metadata": {},
   "outputs": [],
   "source": [
    "next(J)"
   ]
  },
  {
   "cell_type": "code",
   "execution_count": null,
   "id": "9cc10c8a",
   "metadata": {},
   "outputs": [],
   "source": [
    "next(J)"
   ]
  },
  {
   "cell_type": "markdown",
   "id": "88c6e491",
   "metadata": {},
   "source": [
    "### Приклад 3.10. Використання zip() з функцією list()"
   ]
  },
  {
   "cell_type": "code",
   "execution_count": null,
   "id": "c892fc0f",
   "metadata": {},
   "outputs": [],
   "source": [
    "list(zip([1, 2, 3], [4, 5, 6], [7, 8, 9]))"
   ]
  },
  {
   "cell_type": "markdown",
   "id": "46dd059f",
   "metadata": {},
   "source": [
    "### Приклад 3.11. Застосування zip() як ітератора"
   ]
  },
  {
   "cell_type": "code",
   "execution_count": null,
   "id": "0f582647",
   "metadata": {},
   "outputs": [],
   "source": [
    "J=zip([1, 2, 3], [4, 5, 6], [7, 8, 9])\n",
    "print(J)\n",
    "for i in range(3):\n",
    "    a=next(J)\n",
    "    sum(a)\n",
    "    print(a, sum(a))"
   ]
  },
  {
   "cell_type": "markdown",
   "id": "62077184",
   "metadata": {},
   "source": [
    "### Приклад 3.12. zip() і кілька послідовностей різної довжини"
   ]
  },
  {
   "cell_type": "code",
   "execution_count": null,
   "id": "de979915",
   "metadata": {},
   "outputs": [],
   "source": [
    "list(zip([1, 2, 3], [4, 6], [7, 8, 9, 10]))"
   ]
  },
  {
   "cell_type": "markdown",
   "id": "4d3c9698",
   "metadata": {},
   "source": [
    "### Приклад *. Використання функції filter"
   ]
  },
  {
   "cell_type": "code",
   "execution_count": null,
   "id": "d20fb6e3",
   "metadata": {},
   "outputs": [],
   "source": [
    "J = filter(None, (1, 0, None, [], 2))\n",
    "next(J)"
   ]
  },
  {
   "cell_type": "code",
   "execution_count": null,
   "id": "95ae27a3",
   "metadata": {},
   "outputs": [],
   "source": [
    "next(J)"
   ]
  },
  {
   "cell_type": "code",
   "execution_count": null,
   "id": "7b05a204",
   "metadata": {},
   "outputs": [],
   "source": [
    "next(J)"
   ]
  },
  {
   "cell_type": "code",
   "execution_count": null,
   "id": "89d972ab",
   "metadata": {},
   "outputs": [],
   "source": [
    "list(filter(None, [1, 0, None, [], 2]))"
   ]
  },
  {
   "cell_type": "code",
   "execution_count": null,
   "id": "a0e2d816",
   "metadata": {},
   "outputs": [],
   "source": [
    "def func(elem):\n",
    "    return elem >= 0\n",
    "arr = [-1, 2, -3, 4, 0, -20, 10]\n",
    "arr = list(filter(func, arr))\n",
    "print(arr)  "
   ]
  },
  {
   "cell_type": "markdown",
   "id": "bff747be",
   "metadata": {},
   "source": [
    "### Приклад *. Метод extend() додає кілька елементів"
   ]
  },
  {
   "cell_type": "code",
   "execution_count": null,
   "id": "d1ea271e",
   "metadata": {},
   "outputs": [],
   "source": [
    "arr = [1, 2, 3]\n",
    "arr.extend([4, 5, 6]) \n",
    "arr. extend ((7, 8, 9)) \n",
    "arr.extend(\"abc\") \n",
    "arr"
   ]
  },
  {
   "cell_type": "markdown",
   "id": "393fedb8",
   "metadata": {},
   "source": [
    "### Приклад 3.13. Вставка елементів методом insert()"
   ]
  },
  {
   "cell_type": "code",
   "execution_count": 25,
   "id": "89896755",
   "metadata": {},
   "outputs": [
    {
     "data": {
      "text/plain": [
       "[0, 1, 2, 3]"
      ]
     },
     "execution_count": 25,
     "metadata": {},
     "output_type": "execute_result"
    }
   ],
   "source": [
    "arr = [1, 2, 3]\n",
    "arr.insert(0, 0); arr "
   ]
  },
  {
   "cell_type": "code",
   "execution_count": 26,
   "id": "496661d6",
   "metadata": {},
   "outputs": [
    {
     "data": {
      "text/plain": [
       "[0, 1, 2, 20, 3]"
      ]
     },
     "execution_count": 26,
     "metadata": {},
     "output_type": "execute_result"
    }
   ],
   "source": [
    "arr.insert(-1, 20); arr "
   ]
  },
  {
   "cell_type": "code",
   "execution_count": 27,
   "id": "777afee5",
   "metadata": {},
   "outputs": [
    {
     "data": {
      "text/plain": [
       "[0, 1, 100, 2, 20, 3]"
      ]
     },
     "execution_count": 27,
     "metadata": {},
     "output_type": "execute_result"
    }
   ],
   "source": [
    "arr.insert(2, 100); arr"
   ]
  },
  {
   "cell_type": "code",
   "execution_count": 28,
   "id": "f15a487f",
   "metadata": {},
   "outputs": [
    {
     "data": {
      "text/plain": [
       "[0, 1, 100, 2, 20, 3, [4, 5]]"
      ]
     },
     "execution_count": 28,
     "metadata": {},
     "output_type": "execute_result"
    }
   ],
   "source": [
    "arr.insert(10, [ 4, 5]); arr"
   ]
  },
  {
   "cell_type": "markdown",
   "id": "9ee8e3f0",
   "metadata": {},
   "source": [
    "#### Вставка елементів на початок списку по зрізу"
   ]
  },
  {
   "cell_type": "code",
   "execution_count": null,
   "id": "43e0d059",
   "metadata": {},
   "outputs": [],
   "source": [
    "arr = [1, 2, 3]\n",
    "arr[:0] = [-2, -1, 0]\n",
    "arr"
   ]
  },
  {
   "cell_type": "markdown",
   "id": "f7ac0477",
   "metadata": {},
   "source": [
    "### Приклад 3.14. Видалення методом pop()"
   ]
  },
  {
   "cell_type": "code",
   "execution_count": 29,
   "id": "641887d0",
   "metadata": {},
   "outputs": [
    {
     "data": {
      "text/plain": [
       "[1, 2, 3, 4]"
      ]
     },
     "execution_count": 29,
     "metadata": {},
     "output_type": "execute_result"
    }
   ],
   "source": [
    "arr = [1, 2, 3, 4, 5]\n",
    "arr.pop()\n",
    "arr "
   ]
  },
  {
   "cell_type": "code",
   "execution_count": null,
   "id": "ae89e18c",
   "metadata": {},
   "outputs": [],
   "source": [
    "arr.pop(0) \n",
    "arr"
   ]
  },
  {
   "cell_type": "markdown",
   "id": "f216a999",
   "metadata": {},
   "source": [
    "### Приклад 3.15. Видалення операторм del"
   ]
  },
  {
   "cell_type": "code",
   "execution_count": null,
   "id": "9fec2b57",
   "metadata": {},
   "outputs": [],
   "source": [
    "arr = [1, 2, 3, 4, 5]\n",
    "del arr[4]; arr "
   ]
  },
  {
   "cell_type": "code",
   "execution_count": null,
   "id": "eba5af44",
   "metadata": {},
   "outputs": [],
   "source": [
    "del arr[:2]; arr"
   ]
  },
  {
   "cell_type": "markdown",
   "id": "88765efd",
   "metadata": {},
   "source": [
    "### Приклад 3.16. Видалення першого значення методом remove()"
   ]
  },
  {
   "cell_type": "code",
   "execution_count": null,
   "id": "daeed427",
   "metadata": {},
   "outputs": [],
   "source": [
    "arr = [ 1, 2, 3, 1, 1 ]\n",
    "arr.remove(1) \n",
    "arr"
   ]
  },
  {
   "cell_type": "code",
   "execution_count": null,
   "id": "0a03bcf4",
   "metadata": {},
   "outputs": [],
   "source": [
    "arr.remove(S) \n",
    "arr"
   ]
  },
  {
   "cell_type": "code",
   "execution_count": null,
   "id": "b4cb318c",
   "metadata": {},
   "outputs": [],
   "source": [
    "arr.remove(1) \n",
    "arr"
   ]
  },
  {
   "cell_type": "code",
   "execution_count": null,
   "id": "bd9d99ca",
   "metadata": {},
   "outputs": [],
   "source": [
    "arr.remove(5) "
   ]
  },
  {
   "cell_type": "markdown",
   "id": "34445d67",
   "metadata": {},
   "source": [
    "### Приклад 3.17. Очистка методом clear()"
   ]
  },
  {
   "cell_type": "code",
   "execution_count": null,
   "id": "1f77f6e2",
   "metadata": {},
   "outputs": [],
   "source": [
    "arr = [1, 2, 3, 1, 1]\n",
    "arr.clear()\n",
    "arr"
   ]
  },
  {
   "cell_type": "markdown",
   "id": "c0bf5208",
   "metadata": {},
   "source": [
    "### Приклад 3.18. Перевертання списку\n",
    "Метод reverse() змінює порядок проходження елементів списку на протилежний. \n",
    "Метод змінює поточний список і нічого не повертає. "
   ]
  },
  {
   "cell_type": "code",
   "execution_count": null,
   "id": "4a851618",
   "metadata": {},
   "outputs": [],
   "source": [
    "arr = [1, 2, 3, 4, 5]\n",
    "arr.reverse() # Змінюється поточний список\n",
    "arr"
   ]
  },
  {
   "cell_type": "code",
   "execution_count": null,
   "id": "58f05885",
   "metadata": {},
   "outputs": [],
   "source": [
    "arr = [1, 2, 3, 4, 5, 6, 7, 8, 9, 10]\n",
    "reversed(arr)\n",
    "list(reversed(arr))"
   ]
  },
  {
   "cell_type": "markdown",
   "id": "9c903055",
   "metadata": {},
   "source": [
    "### Приклад 3.19. Сортування списку\n",
    "Властивості методу sort():\n",
    "1. Усі параметри не є обов'язковими.\n",
    "2. Метод змінює поточний список і нічого не повертає. \n",
    "3. Параметр key може вказувати на функцію, що задає умови сортування "
   ]
  },
  {
   "cell_type": "code",
   "execution_count": null,
   "id": "d350f34a",
   "metadata": {},
   "outputs": [],
   "source": [
    "arr = [2, 7, 10, 4, 6, 8, 9, 3, 1, 5]\n",
    "arr.sort()# Змінює поточний список\n",
    "arr"
   ]
  },
  {
   "cell_type": "code",
   "execution_count": null,
   "id": "4e30253f",
   "metadata": {},
   "outputs": [],
   "source": [
    "arr = [\"sky\",\"land\",\"water\",\"fire\",\"sun\"]\n",
    "arr.sort(reverse = True)\n",
    "arr # Сортування за спаданням"
   ]
  },
  {
   "cell_type": "markdown",
   "id": "9490795a",
   "metadata": {},
   "source": [
    "#### Функція sorted()\n",
    "Функція sorted() формує новий список, а поточний список залишає без змін.\n",
    "1. Перший параметр <Послідовність> повинен містити список, який необхідно відсортувати. \n",
    "2. Параметр key може вказувати на функцію, що задає умови сортування \n",
    "3. Параметр [reverse= False] сортувати за зростанням. \n",
    "4. Параметр [reverse= True] сортувати за спаданням"
   ]
  },
  {
   "cell_type": "code",
   "execution_count": null,
   "id": "569380c4",
   "metadata": {},
   "outputs": [],
   "source": [
    "arr = [7, 10, 4, 2, 6, 8, 9, 3, 1, 5]\n",
    "sorted(arr) # Повертає новий список!"
   ]
  },
  {
   "cell_type": "code",
   "execution_count": null,
   "id": "af3b2cb9",
   "metadata": {},
   "outputs": [],
   "source": [
    "arr = [\"Asia\",\"bee\", \"ant\", \"Brazil\"]\n",
    "arr1 = sorted(arr,key=str.lower,reverse=True) # метод lower()\n",
    "print(arr1)\n",
    "for i in arr1:\n",
    "    print(i, end=\" \")"
   ]
  },
  {
   "cell_type": "markdown",
   "id": "e4d10c08",
   "metadata": {},
   "source": [
    "### Приклад 3.20. Створення кортежу"
   ]
  },
  {
   "cell_type": "code",
   "execution_count": null,
   "id": "c0263127",
   "metadata": {},
   "outputs": [],
   "source": [
    "t =(5) \n",
    "type(t)"
   ]
  },
  {
   "cell_type": "code",
   "execution_count": null,
   "id": "af40a9be",
   "metadata": {},
   "outputs": [],
   "source": [
    "t = (\"str\")\n",
    "type(t)"
   ]
  },
  {
   "cell_type": "code",
   "execution_count": null,
   "id": "ff6a15dd",
   "metadata": {},
   "outputs": [],
   "source": [
    "t =(5,) # Кома задає тип tuple\n",
    "type(t)"
   ]
  },
  {
   "cell_type": "code",
   "execution_count": null,
   "id": "2e931fa4",
   "metadata": {},
   "outputs": [],
   "source": []
  },
  {
   "cell_type": "markdown",
   "id": "422f9a1f",
   "metadata": {},
   "source": [
    "## 4. Множини"
   ]
  },
  {
   "cell_type": "markdown",
   "id": "e74eb6e8",
   "metadata": {},
   "source": [
    "### Приклад 4.1.\n",
    "Множина – це неупорядкована послідовність унікальних елементів, з якою можна порівнювати інші елементи, щоб визначити, чи належать вони цій множині. "
   ]
  },
  {
   "cell_type": "code",
   "execution_count": null,
   "id": "ba1c1f99",
   "metadata": {},
   "outputs": [],
   "source": [
    "s=set(3,4)\n",
    " s"
   ]
  },
  {
   "cell_type": "code",
   "execution_count": null,
   "id": "1b5bad56",
   "metadata": {},
   "outputs": [],
   "source": [
    "s=set([1,2])\n",
    "s"
   ]
  },
  {
   "cell_type": "code",
   "execution_count": null,
   "id": "a0a591a1",
   "metadata": {},
   "outputs": [],
   "source": [
    "s=set(\"ab\")\n",
    "s"
   ]
  },
  {
   "cell_type": "code",
   "execution_count": null,
   "id": "e31dac8c",
   "metadata": {},
   "outputs": [],
   "source": [
    "s = set({\"a\":1,\"b\":2})\n",
    "s"
   ]
  },
  {
   "cell_type": "code",
   "execution_count": null,
   "id": "7d43b7c5",
   "metadata": {},
   "outputs": [],
   "source": [
    "s = set()\n",
    "s"
   ]
  },
  {
   "cell_type": "markdown",
   "id": "380b1797",
   "metadata": {},
   "source": [
    "### Приклад 4.2.  Об’єднання двох множин\n",
    "Об'єднанням множин називається множина, у яку входять всі елементи цих множин. Якщо в множинах є спільні елементи, то в об'єднання вони входять лише один раз. "
   ]
  },
  {
   "cell_type": "code",
   "execution_count": null,
   "id": "f5d9e7d5",
   "metadata": {},
   "outputs": [],
   "source": [
    "s1 = set([ 1, 2, 3])\n",
    "s2 = set([ 4, 5, 6])\n",
    "print(\"s1 =\",s1)\n",
    "print(\"s2 =\",s2)\n",
    "s3= s1 | s2\n",
    "print(\"s3 =\",s3)"
   ]
  },
  {
   "cell_type": "code",
   "execution_count": null,
   "id": "19d36588",
   "metadata": {},
   "outputs": [],
   "source": [
    "s1 = set([ 1, 2, 3])\n",
    "s2 = set([ 4, 5, 6])\n",
    "print(\"s1 =\",s1)\n",
    "print(\"s2 =\",s2)\n",
    "s4 = s1.union(s2)\n",
    "print(\"s4 =\",s3)"
   ]
  },
  {
   "cell_type": "markdown",
   "id": "e1b0841d",
   "metadata": {},
   "source": [
    "### Приклад 4.3. Об'єднання множин без створення нового об'єкта"
   ]
  },
  {
   "cell_type": "code",
   "execution_count": null,
   "id": "18f80f5c",
   "metadata": {},
   "outputs": [],
   "source": [
    "# Використання методу update()\n",
    "s1=s = set([1, 2, 3])\n",
    "s.update(set([4, 5, 6]))\n",
    "print(s)\n",
    "print(s1 is s)"
   ]
  },
  {
   "cell_type": "code",
   "execution_count": null,
   "id": "4db2b64f",
   "metadata": {},
   "outputs": [],
   "source": [
    "# Використання оператора  |= \n",
    "s1=s=set([1, 2, 3])\n",
    "s |= set([7, 8, 9])\n",
    "print(s)\n",
    "print(s1 is s)"
   ]
  },
  {
   "cell_type": "markdown",
   "id": "2f733f59",
   "metadata": {},
   "source": [
    "### Приклад 4.4.\n",
    "Різницею двох множин називається така множина, яка складається тільки з таких елементів, що входять у зменшувану множину, але не входять у  множину - від'ємник"
   ]
  },
  {
   "cell_type": "code",
   "execution_count": null,
   "id": "2fe7dc0e",
   "metadata": {},
   "outputs": [],
   "source": [
    "#Використовуємо оператор -\n",
    "s= set([1, 2, 3, 6, 7]) - set([1, 2, 4])\n",
    "print(s)"
   ]
  },
  {
   "cell_type": "code",
   "execution_count": null,
   "id": "fc9050f4",
   "metadata": {},
   "outputs": [],
   "source": [
    "# Використовуємо метод difference()\n",
    "s = set([1, 2, 3, 6, 7])\n",
    "s.difference(set([1, 2, 4]))"
   ]
  },
  {
   "cell_type": "markdown",
   "id": "4ccdf951",
   "metadata": {},
   "source": [
    "#### Різниця без створення нового об'єкта"
   ]
  },
  {
   "cell_type": "code",
   "execution_count": null,
   "id": "d4a5ab6e",
   "metadata": {},
   "outputs": [],
   "source": [
    "# Використовуємо метод difference_update()\n",
    "s = set([1, 2, 3, 6, 7])\n",
    "s.difference_update(set([1, 2, 4]))\n",
    "print(s)"
   ]
  },
  {
   "cell_type": "code",
   "execution_count": null,
   "id": "1849d193",
   "metadata": {},
   "outputs": [],
   "source": [
    "# Використовуємо оператор -=\n",
    "s = set([1, 2, 3, 6, 7])\n",
    "s -= set([6,7])\n",
    "print(s)"
   ]
  },
  {
   "cell_type": "markdown",
   "id": "7c39766d",
   "metadata": {},
   "source": [
    "### Приклад 4.5.\n",
    "Перетином множин називається множина, яка складається зі спільних елементів цих множин. Кожен спільний елемент входить у перетин лише один раз."
   ]
  },
  {
   "cell_type": "code",
   "execution_count": null,
   "id": "3e91e331",
   "metadata": {},
   "outputs": [],
   "source": [
    "# Використовуємо оператор &\n",
    "s=set([1, 2, 3]) & set([1, 2, 4])\n",
    "print(s)"
   ]
  },
  {
   "cell_type": "code",
   "execution_count": 32,
   "id": "8e9a4b3e",
   "metadata": {},
   "outputs": [
    {
     "name": "stdout",
     "output_type": "stream",
     "text": [
      "{1, 2, 3}\n"
     ]
    }
   ],
   "source": [
    "# Використовуємо метод intersection()\n",
    "s = set([ 1, 2, 3])\n",
    "s.intersection(set([1, 2, 4]))\n",
    "print(s)"
   ]
  },
  {
   "cell_type": "markdown",
   "id": "f209ef08",
   "metadata": {},
   "source": [
    "**Перетин множин без створення нового об’єкта**"
   ]
  },
  {
   "cell_type": "code",
   "execution_count": 33,
   "id": "dc62e326",
   "metadata": {},
   "outputs": [
    {
     "data": {
      "text/plain": [
       "{1, 2}"
      ]
     },
     "execution_count": 33,
     "metadata": {},
     "output_type": "execute_result"
    }
   ],
   "source": [
    "# Використовуємо метод intersection_update() \n",
    "s.intersection_update(set([1, 2, 4]))\n",
    "s"
   ]
  },
  {
   "cell_type": "code",
   "execution_count": 34,
   "id": "0016426a",
   "metadata": {},
   "outputs": [
    {
     "data": {
      "text/plain": [
       "{1, 2}"
      ]
     },
     "execution_count": 34,
     "metadata": {},
     "output_type": "execute_result"
    }
   ],
   "source": [
    "# Використовуємо оператор &=\n",
    "s &= set([1, 2, 7])\n",
    "s"
   ]
  },
  {
   "cell_type": "markdown",
   "id": "411b7ebf",
   "metadata": {},
   "source": [
    "### Приклад 4.6.  Симетрична різниця або XOR\n",
    "Симетричною різницею двох множин називається множина, яка складається тільки з унікальних елементів множин."
   ]
  },
  {
   "cell_type": "code",
   "execution_count": 30,
   "id": "752ec03d",
   "metadata": {},
   "outputs": [
    {
     "name": "stdout",
     "output_type": "stream",
     "text": [
      "{3, 4}\n"
     ]
    }
   ],
   "source": [
    "# Використовуємо оператор ^\n",
    "s1 = {1, 2, 3}\n",
    "s2 = {1, 2, 4}\n",
    "s3 = s1 ^ s2\n",
    "print(s3)"
   ]
  },
  {
   "cell_type": "code",
   "execution_count": 35,
   "id": "9624c30c",
   "metadata": {},
   "outputs": [
    {
     "data": {
      "text/plain": [
       "{4}"
      ]
     },
     "execution_count": 35,
     "metadata": {},
     "output_type": "execute_result"
    }
   ],
   "source": [
    "# Використовуємо метод  symmetric_difference()\n",
    "s.symmetric_difference(set([1, 2, 4]))"
   ]
  },
  {
   "cell_type": "markdown",
   "id": "8e4b749b",
   "metadata": {},
   "source": [
    "**Симетрична різниця без створення нового об’єкта**"
   ]
  },
  {
   "cell_type": "code",
   "execution_count": null,
   "id": "2607fc39",
   "metadata": {},
   "outputs": [],
   "source": [
    "# Використовуємо метод symmetric_difference_update()\n",
    "s ={1, 2, 3}\n",
    "s.symmetric_difference_update(set([1, 2, 4]))\n",
    "s"
   ]
  },
  {
   "cell_type": "code",
   "execution_count": null,
   "id": "2294ad2d",
   "metadata": {},
   "outputs": [],
   "source": [
    "# Використовуємо оператор ^=\n",
    "s ^= set([3, 5, 6]) \n",
    "s"
   ]
  },
  {
   "cell_type": "markdown",
   "id": "8d58a173",
   "metadata": {},
   "source": [
    "### Приклад 3.7. Оператори "
   ]
  },
  {
   "cell_type": "code",
   "execution_count": 36,
   "id": "85a55dde",
   "metadata": {},
   "outputs": [
    {
     "data": {
      "text/plain": [
       "True"
      ]
     },
     "execution_count": 36,
     "metadata": {},
     "output_type": "execute_result"
    }
   ],
   "source": [
    "# == Логічна операція повертає True, якщо множини рівні і False - якщо множини відрізняються хоча б одним елементом\n",
    "set ( [1, 2, 3]) == set ( [1, 2, 3]) "
   ]
  },
  {
   "cell_type": "markdown",
   "id": "77764280",
   "metadata": {},
   "source": [
    "**Перевірка на нестроге входження оператором  <=, >=**"
   ]
  },
  {
   "cell_type": "code",
   "execution_count": 37,
   "id": "5542e3f0",
   "metadata": {},
   "outputs": [
    {
     "data": {
      "text/plain": [
       "True"
      ]
     },
     "execution_count": 37,
     "metadata": {},
     "output_type": "execute_result"
    }
   ],
   "source": [
    "# Використовуємо оператор <=\n",
    "a = set ([1, 2, 3])\n",
    "b = set ([1, 2, 3])\n",
    "a <= b"
   ]
  },
  {
   "cell_type": "code",
   "execution_count": 38,
   "id": "e5ac63ab",
   "metadata": {},
   "outputs": [
    {
     "data": {
      "text/plain": [
       "(True, False)"
      ]
     },
     "execution_count": 38,
     "metadata": {},
     "output_type": "execute_result"
    }
   ],
   "source": [
    "s = set([1, 2, 3])\n",
    "s >= set([1, 2]), s >= set([1, 2, 3, 4])"
   ]
  },
  {
   "cell_type": "code",
   "execution_count": null,
   "id": "23313e09",
   "metadata": {},
   "outputs": [],
   "source": [
    "# Використовуємо метод issubset()\n",
    "s = set ([1, 2, 3, 4])\n",
    "s.issubset(set([1, 2]))"
   ]
  },
  {
   "cell_type": "code",
   "execution_count": null,
   "id": "1ba948bf",
   "metadata": {},
   "outputs": [],
   "source": [
    "s.issubset(set([1, 2, 3, 4, 5]))"
   ]
  },
  {
   "cell_type": "markdown",
   "id": "6af68e3e",
   "metadata": {},
   "source": [
    "**Перевірка на строге входження оператором <, >**"
   ]
  },
  {
   "cell_type": "code",
   "execution_count": null,
   "id": "67e81d85",
   "metadata": {},
   "outputs": [],
   "source": [
    "a = set([ 1, 2, 3])\n",
    "b = set([1, 2, 3])\n",
    "a < b"
   ]
  },
  {
   "cell_type": "code",
   "execution_count": null,
   "id": "da1828d6",
   "metadata": {},
   "outputs": [],
   "source": [
    "s = set([1, 2, 3])\n",
    "s > set([1, 2])"
   ]
  },
  {
   "cell_type": "markdown",
   "id": "32cc809d",
   "metadata": {},
   "source": [
    "**Первірка множин на повне неспівпадіння**"
   ]
  },
  {
   "cell_type": "code",
   "execution_count": 39,
   "id": "6ca7d3df",
   "metadata": {},
   "outputs": [
    {
     "data": {
      "text/plain": [
       "True"
      ]
     },
     "execution_count": 39,
     "metadata": {},
     "output_type": "execute_result"
    }
   ],
   "source": [
    "s = set([1, 2, 3])\n",
    "s.isdisjoint(set([4, 5, 6]))"
   ]
  },
  {
   "cell_type": "code",
   "execution_count": 40,
   "id": "d861c0a5",
   "metadata": {},
   "outputs": [
    {
     "data": {
      "text/plain": [
       "False"
      ]
     },
     "execution_count": 40,
     "metadata": {},
     "output_type": "execute_result"
    }
   ],
   "source": [
    "s.isdisjoint(set([1, 3, 5]))"
   ]
  },
  {
   "cell_type": "markdown",
   "id": "476d2026",
   "metadata": {},
   "source": [
    "### Приклад 3.8. Методи "
   ]
  },
  {
   "cell_type": "code",
   "execution_count": 41,
   "id": "de03bd6f",
   "metadata": {},
   "outputs": [
    {
     "data": {
      "text/plain": [
       "{1, 2, 3, 4}"
      ]
     },
     "execution_count": 41,
     "metadata": {},
     "output_type": "execute_result"
    }
   ],
   "source": [
    "s = set([1, 2, 3]) # add() додає елемент у множину\n",
    "s.add(4); s"
   ]
  },
  {
   "cell_type": "code",
   "execution_count": 42,
   "id": "b0d6e58e",
   "metadata": {},
   "outputs": [
    {
     "data": {
      "text/plain": [
       "{1, 2}"
      ]
     },
     "execution_count": 42,
     "metadata": {},
     "output_type": "execute_result"
    }
   ],
   "source": [
    "s = set ([1, 2, 3] ) # Видалення елемента, вказаного в параметрі метода remove()\n",
    "s.remove(3); s"
   ]
  },
  {
   "cell_type": "markdown",
   "id": "f5f6ae3d",
   "metadata": {},
   "source": [
    "**Видалення елемента, вказаного в параметрі метода discard()**\n",
    "Якщо елемент не існує то помилка не виникає"
   ]
  },
  {
   "cell_type": "code",
   "execution_count": 43,
   "id": "ff0b50fe",
   "metadata": {},
   "outputs": [
    {
     "data": {
      "text/plain": [
       "{1, 2}"
      ]
     },
     "execution_count": 43,
     "metadata": {},
     "output_type": "execute_result"
    }
   ],
   "source": [
    "s.discard(5); s # Елемент НЕ існує"
   ]
  },
  {
   "cell_type": "code",
   "execution_count": 44,
   "id": "6753d2ed",
   "metadata": {},
   "outputs": [
    {
     "name": "stdout",
     "output_type": "stream",
     "text": [
      "{'Sydorenko', 'Petrenko'}\n",
      "{'Sydorenko', 'Petrenko'}\n"
     ]
    }
   ],
   "source": [
    "my = {\"Petrenko\", \"Sydorenko\"}\n",
    "print(my)\n",
    "my. discard (\"Ivanov\")\n",
    "print(my)"
   ]
  },
  {
   "cell_type": "markdown",
   "id": "2ff66a75",
   "metadata": {},
   "source": [
    "**Метод pop() повертає випадковий видалений елемент з множини** \n",
    "Якщо множина пуста, то виникає помилка"
   ]
  },
  {
   "cell_type": "code",
   "execution_count": 45,
   "id": "24be2c24",
   "metadata": {},
   "outputs": [
    {
     "data": {
      "text/plain": [
       "2"
      ]
     },
     "execution_count": 45,
     "metadata": {},
     "output_type": "execute_result"
    }
   ],
   "source": [
    "s = set([3, 2, 4])\n",
    "s.pop()"
   ]
  },
  {
   "cell_type": "code",
   "execution_count": 46,
   "id": "94ea36a7",
   "metadata": {},
   "outputs": [
    {
     "data": {
      "text/plain": [
       "{3, 4}"
      ]
     },
     "execution_count": 46,
     "metadata": {},
     "output_type": "execute_result"
    }
   ],
   "source": [
    "s"
   ]
  },
  {
   "cell_type": "markdown",
   "id": "71690e50",
   "metadata": {},
   "source": [
    "### Приклад 3.8. Генератор створює множину з послідовності.\n",
    "У множину додаються тільки унікальні елементи"
   ]
  },
  {
   "cell_type": "code",
   "execution_count": null,
   "id": "adec0922",
   "metadata": {},
   "outputs": [],
   "source": [
    "{x for x in [1, 2, 1, 2, 1, 2, 3]}"
   ]
  },
  {
   "cell_type": "code",
   "execution_count": null,
   "id": "c6059913",
   "metadata": {},
   "outputs": [],
   "source": [
    "{x for x in [\"a\", \"b\", \"b\", \"a\", \"c\"]}"
   ]
  },
  {
   "cell_type": "code",
   "execution_count": 47,
   "id": "639ec995",
   "metadata": {},
   "outputs": [
    {
     "data": {
      "text/plain": [
       "{'fall', 'spring', 'summer', 'winter'}"
      ]
     },
     "execution_count": 47,
     "metadata": {},
     "output_type": "execute_result"
    }
   ],
   "source": [
    "{x for x in [\"winter\", \"summer\", \"fall\", \"fall\", \"spring\"]}\n"
   ]
  },
  {
   "cell_type": "markdown",
   "id": "6b4133c5",
   "metadata": {},
   "source": [
    "**Генератор множини з умовою** \n",
    "Унікальні парні елементи "
   ]
  },
  {
   "cell_type": "code",
   "execution_count": null,
   "id": "516d5c10",
   "metadata": {},
   "outputs": [],
   "source": [
    "{x for x in [1,2,1,2,1,2,3] if x % 2 == 0}"
   ]
  },
  {
   "cell_type": "code",
   "execution_count": null,
   "id": "171957d1",
   "metadata": {},
   "outputs": [],
   "source": [
    "{x for x in [1,2,1,2,1,2,3] if x < 3}"
   ]
  },
  {
   "cell_type": "code",
   "execution_count": null,
   "id": "3fc36427",
   "metadata": {},
   "outputs": [],
   "source": [
    "{x for x in [1,2,1,2,1,2,3] if (x<3)&(x>1)}"
   ]
  },
  {
   "cell_type": "code",
   "execution_count": null,
   "id": "75705d7e",
   "metadata": {},
   "outputs": [],
   "source": [
    "{x  for  x  in  list(zip([1,2],[1,2],[1,2,3]))  if  x[0] % 2 == 0}"
   ]
  },
  {
   "cell_type": "markdown",
   "id": "61703ca6",
   "metadata": {},
   "source": [
    "### Приклад 46. Функція cycle()  циклічно повертає елементи послідовності , які задані як параметр."
   ]
  },
  {
   "cell_type": "code",
   "execution_count": 48,
   "id": "143bd6ee",
   "metadata": {},
   "outputs": [
    {
     "name": "stdout",
     "output_type": "stream",
     "text": [
      "a б в a б в a б в a "
     ]
    }
   ],
   "source": [
    "import itertools\n",
    "n = 1\n",
    "for i in itertools.cycle(\"aбв\"):\n",
    "    if n > 10: break\n",
    "    print(i, end=\" \")\n",
    "    n += 1"
   ]
  },
  {
   "cell_type": "code",
   "execution_count": null,
   "id": "0d40cd18",
   "metadata": {},
   "outputs": [],
   "source": [
    "# Створення zip-кортежів\n",
    "import itertools\n",
    "p = list(zip(itertools.cycle([0, 1]), \"абвгд\"))\n",
    "print(p)"
   ]
  },
  {
   "cell_type": "code",
   "execution_count": null,
   "id": "3c2d97ab",
   "metadata": {},
   "outputs": [],
   "source": [
    "# співставлення латинських та кириличних символів\n",
    "import itertools\n",
    "p = list(zip(itertools.cycle([\"a\", \"b\", \"v\", \"g\", \"d\"]), \"абвгд\"))\n",
    "print(p)"
   ]
  }
 ],
 "metadata": {
  "kernelspec": {
   "display_name": "Python 3 (ipykernel)",
   "language": "python",
   "name": "python3"
  },
  "language_info": {
   "codemirror_mode": {
    "name": "ipython",
    "version": 3
   },
   "file_extension": ".py",
   "mimetype": "text/x-python",
   "name": "python",
   "nbconvert_exporter": "python",
   "pygments_lexer": "ipython3",
   "version": "3.10.7"
  }
 },
 "nbformat": 4,
 "nbformat_minor": 5
}
